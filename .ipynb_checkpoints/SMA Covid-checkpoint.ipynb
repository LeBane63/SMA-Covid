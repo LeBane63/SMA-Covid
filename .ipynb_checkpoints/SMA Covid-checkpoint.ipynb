{
 "cells": [
  {
   "cell_type": "code",
   "execution_count": null,
   "id": "40adb035",
   "metadata": {},
   "outputs": [],
   "source": [
    "'''\n",
    "Bienvenue sur ce notebook.\n",
    "J'ai codé un SMA Covid.\n",
    "Les résultats de la simulation arrivent dans le fichier log.txt\n",
    "\n",
    "Les paramètres utilisés sont dans le fichier config.txt\n",
    "\n",
    "\n",
    "\n",
    "\n",
    "\n",
    "'''"
   ]
  },
  {
   "cell_type": "code",
   "execution_count": 1,
   "id": "5f4a2a61",
   "metadata": {},
   "outputs": [],
   "source": [
    "!g++ -O2 -c Position.cpp Human.cpp RandMT.cpp World.cpp main.cpp"
   ]
  },
  {
   "cell_type": "code",
   "execution_count": 2,
   "id": "5778fcd0",
   "metadata": {},
   "outputs": [],
   "source": [
    "!g++ -O2 Human.o main.o Position.o RandMT.o World.o -o exe"
   ]
  },
  {
   "cell_type": "code",
   "execution_count": null,
   "id": "2208d5a6",
   "metadata": {},
   "outputs": [],
   "source": [
    "!./exe"
   ]
  },
  {
   "cell_type": "code",
   "execution_count": 14,
   "id": "c9d02d0c",
   "metadata": {},
   "outputs": [],
   "source": [
    "listNumIteration = []\n",
    "listNbNouvCas = []\n",
    "listNbPersonneHosp = []\n",
    "listNbPersonneRea = []\n",
    "listNbNouvHosp = []\n",
    "listNbNouvRea = []\n",
    "listNbNouvMort = []\n",
    "nbCasCovidConnuTotal = 0\n",
    "listAgeMort = []\n",
    "listAgeNouvCasSymptomatique = []\n",
    "\n",
    "\n",
    "f = open(\"log.txt\", \"r\")\n",
    "fileLines = f.readlines()\n",
    "i = 0\n",
    "for line in fileLines:\n",
    "    if(\"##\" not in line):\n",
    "        if(i == 0):\n",
    "            listNumIteration.append(int(line))\n",
    "            i = i + 1\n",
    "        elif(i==1):\n",
    "            listNbNouvCas.append(int(line))\n",
    "            i = i + 1\n",
    "        elif(i==2):\n",
    "            listNbPersonneHosp.append(int(line))\n",
    "            i = i + 1\n",
    "        elif(i==3):\n",
    "            listNbPersonneRea.append(int(line))\n",
    "            i = i + 1\n",
    "        elif(i==4):\n",
    "            listNbNouvHosp.append(int(line))\n",
    "            i = i + 1\n",
    "        elif(i==5):\n",
    "            listNbNouvRea.append(int(line))\n",
    "            i = i + 1\n",
    "        elif(i==6):\n",
    "            listNbNouvMort.append(int(line))\n",
    "            i = i + 1\n",
    "        elif(i==7):\n",
    "            nbCasCovidConnuTotal = (int(line))\n",
    "            i = i + 1\n",
    "        elif(\"AgeC:\" in line):\n",
    "            listSplit = line.split(\":\")\n",
    "            listAgeNouvCasSymptomatique.append(int(listSplit[1]))\n",
    "        elif(\"AgeD:\" in line):\n",
    "            listSplit = line.split(\":\")\n",
    "            listAgeMort.append(int(listSplit[1]))\n",
    "    else:\n",
    "        i = 0\n",
    "        \n"
   ]
  },
  {
   "cell_type": "code",
   "execution_count": 15,
   "id": "07d643a5",
   "metadata": {},
   "outputs": [
    {
     "name": "stdout",
     "output_type": "stream",
     "text": [
      "[0, 2727, 3111, 3529, 4028, 4240, 4049, 3936, 3600, 3145, 2608, 2498, 2269, 2039, 1853, 1600, 1430, 1252, 1070, 961, 817, 744, 635, 561, 470, 431, 383, 335, 266, 236, 226, 220, 170, 144, 103, 103, 73, 85, 69, 53, 40, 49, 34, 31, 26, 24, 23, 23, 22, 14, 15, 14, 12, 12, 7, 6, 4, 2, 4, 2, 3, 0, 0, 0, 0, 0, 0, 0, 0, 1, 0, 0, 0, 0, 0, 0, 0, 0, 0, 0, 0, 0, 0, 0, 0, 0, 0, 0, 0, 0, 0, 0, 0, 0, 0, 0, 0, 0, 0, 0, 0, 0, 0, 0, 0, 0, 0, 0, 0, 0, 0, 0, 0, 0, 0, 0, 0, 0, 0, 0, 0, 0, 0, 0, 0, 0, 0, 0, 0, 0, 0, 0, 0, 0, 0, 0, 0, 0, 0, 0, 0, 0, 0, 0, 0, 0, 0, 0, 0, 0]\n",
      "#####\n",
      "[0, 0, 1836, 274, 316, 336, 395, 399, 405, 371, 354, 302, 240, 229, 201, 189, 189, 148, 135, 94, 85, 98, 70, 67, 48, 42, 40, 40, 35, 16, 23, 21, 37, 21, 15, 19, 10, 10, 6, 6, 10, 2, 2, 1, 2, 3, 2, 1, 4, 1, 0, 3, 0, 0, 1, 0, 1, 0, 0, 0, 0, 1, 0, 0, 0, 0, 0, 0, 0, 0, 0, 0, 0, 0, 0, 0, 0, 0, 0, 0, 0, 0, 0, 0, 0, 0, 0, 0, 0, 0, 0, 0, 0, 0, 0, 0, 0, 0, 0, 0, 0, 0, 0, 0, 0, 0, 0, 0, 0, 0, 0, 0, 0, 0, 0, 0, 0, 0, 0, 0, 0, 0, 0, 0, 0, 0, 0, 0, 0, 0, 0, 0, 0, 0, 0, 0, 0, 0, 0, 0, 0, 0, 0, 0, 0, 0, 0, 0, 0, 0]\n",
      "#####\n",
      "[0, 0, 0, 623, 94, 64, 58, 70, 78, 73, 37, 33, 25, 24, 17, 31, 25, 34, 18, 16, 13, 18, 17, 10, 6, 6, 5, 5, 8, 10, 3, 9, 5, 15, 5, 5, 5, 4, 1, 0, 1, 3, 1, 2, 0, 1, 2, 0, 0, 1, 0, 0, 0, 0, 0, 0, 0, 0, 0, 0, 0, 0, 1, 0, 0, 0, 0, 0, 0, 0, 0, 0, 0, 0, 0, 0, 0, 0, 0, 0, 0, 0, 0, 0, 0, 0, 0, 0, 0, 0, 0, 0, 0, 0, 0, 0, 0, 0, 0, 0, 0, 0, 0, 0, 0, 0, 0, 0, 0, 0, 0, 0, 0, 0, 0, 0, 0, 0, 0, 0, 0, 0, 0, 0, 0, 0, 0, 0, 0, 0, 0, 0, 0, 0, 0, 0, 0, 0, 0, 0, 0, 0, 0, 0, 0, 0, 0, 0, 0, 0]\n",
      "#####\n",
      "[0, 0, 0, 0, 308, 54, 35, 31, 33, 40, 36, 13, 19, 9, 12, 7, 17, 17, 21, 6, 8, 6, 9, 9, 5, 1, 3, 5, 0, 4, 5, 2, 4, 3, 9, 1, 3, 4, 2, 0, 0, 0, 1, 1, 1, 0, 0, 1, 0, 0, 0, 0, 0, 0, 0, 0, 0, 0, 0, 0, 0, 0, 0, 0, 0, 0, 0, 0, 0, 0, 0, 0, 0, 0, 0, 0, 0, 0, 0, 0, 0, 0, 0, 0, 0, 0, 0, 0, 0, 0, 0, 0, 0, 0, 0, 0, 0, 0, 0, 0, 0, 0, 0, 0, 0, 0, 0, 0, 0, 0, 0, 0, 0, 0, 0, 0, 0, 0, 0, 0, 0, 0, 0, 0, 0, 0, 0, 0, 0, 0, 0, 0, 0, 0, 0, 0, 0, 0, 0, 0, 0, 0, 0, 0, 0, 0, 0, 0, 0, 0]\n",
      "#####\n",
      "59499\n",
      "#####\n",
      "[6, 6, 6, 6, 6, 5, 7, 7, 7, 7, 6, 7, 5, 5, 7, 7, 6, 7, 5, 6, 7, 2, 5, 7, 7, 7, 6, 7, 7, 5, 5, 6, 7, 7, 6, 6, 7, 6, 6, 4, 6, 7, 7, 5, 7, 6, 7, 4, 5, 7, 7, 6, 5, 7, 7, 7, 5, 7, 6, 4, 6, 5, 6, 6, 5, 7, 7, 7, 7, 7, 6, 1, 5, 7, 7, 7, 5, 6, 6, 7, 6, 7, 7, 7, 5, 7, 7, 7, 7, 7, 5, 6, 7, 5, 5, 6, 7, 7, 7, 5, 7, 3, 7, 7, 7, 7, 7, 7, 7, 4, 5, 7, 6, 7, 7, 7, 5, 6, 7, 5, 7, 7, 6, 6, 7, 6, 6, 6, 7, 6, 6, 5, 7, 6, 5, 7, 7, 7, 7, 7, 6, 7, 7, 1, 6, 6, 4, 6, 7, 7, 7, 7, 5, 6, 4, 7, 5, 7, 6, 4, 6, 6, 7, 7, 7, 6, 6, 7, 6, 5, 5, 4, 7, 5, 7, 7, 6, 6, 7, 6, 7, 5, 6, 7, 6, 7, 6, 6, 7, 3, 6, 7, 4, 7, 7, 4, 7, 7, 7, 7, 7, 6, 7, 7, 6, 7, 7, 6, 6, 5, 6, 6, 3, 3, 7, 7, 7, 5, 7, 7, 7, 6, 6, 4, 6, 7, 7, 5, 5, 7, 7, 5, 7, 4, 6, 6, 7, 4, 7, 6, 7, 7, 7, 7, 6, 5, 7, 6, 7, 6, 7, 6, 5, 7, 7, 6, 6, 6, 7, 6, 5, 7, 5, 7, 3, 7, 6, 6, 7, 7, 6, 7, 5, 7, 7, 7, 7, 6, 7, 6, 5, 7, 7, 5, 7, 6, 7, 7, 6, 7, 5, 6, 7, 7, 7, 6, 6, 7, 7, 7, 4, 5, 5, 5, 6, 5, 7, 6, 4, 7, 7, 6, 7, 6, 7, 4, 6, 7, 2, 6, 7, 5, 7, 6, 4, 5, 4, 7, 3, 6, 7, 6, 6, 6, 6, 7, 7, 4, 7, 5, 6, 7, 7, 6, 7, 6, 5, 4, 6, 5, 7, 7, 7, 7, 7, 6, 6, 4, 6, 6, 5, 7, 6, 7, 6, 7, 7, 5, 7, 5, 3, 7, 7, 7, 5, 7, 7, 4, 7, 5, 7, 7, 7, 3, 6, 7, 5, 7, 6, 6, 6, 7, 5, 6, 6, 6, 7, 6, 7, 6, 7, 6, 4, 6, 7, 6, 7, 7, 3, 6, 7, 7, 5, 6, 5, 7, 5, 6, 6, 7, 2, 7, 7, 6, 7, 6, 6, 7, 4, 5, 4, 5, 5, 7, 7, 7, 7, 6, 6, 5, 5, 7, 5, 7, 6, 7, 7, 7, 6, 7, 3, 7, 5, 7, 7, 7, 7, 7, 6, 6, 7, 7, 5, 7, 4, 7, 6, 7, 6, 7, 6, 7, 6, 7, 6, 3, 7, 6, 6, 7, 5, 4, 6, 7, 5, 6, 7, 7, 7, 6, 5, 5, 6, 6, 2, 5, 4, 7, 5, 4, 5, 5, 7, 5, 7, 7, 6, 7, 7, 4, 7, 7, 4, 7, 6, 3, 7, 6, 7, 4, 5, 7, 6, 6, 7, 5, 5, 6, 5, 7, 7, 4, 6, 6, 4, 6, 7, 7, 7, 7, 6, 4, 6, 7, 7, 6, 7, 7, 5, 6, 6, 7, 5, 6, 7, 6, 4, 6, 6, 6, 6, 2, 7, 6, 7, 6, 6, 5, 5, 6, 3, 6, 7, 6, 6, 4, 5, 7, 4, 7, 7, 7, 7, 6, 7, 7, 7, 7, 7, 6, 6, 7, 7, 7, 6, 6, 7, 7, 7, 7, 6, 7, 7, 7, 6, 7, 7, 5, 7, 6, 7, 7, 7, 6, 6, 4, 6, 7, 7, 7, 5, 7, 5, 6, 7, 4, 4, 5, 6, 7, 5, 4, 6, 6, 6, 4, 7, 7, 7, 6, 7, 7, 7, 7, 5, 6, 7, 7, 7, 6, 7, 7, 7, 7, 7, 7, 5, 6, 6, 5, 7, 7, 7, 7, 6, 7, 6, 5, 7, 5, 7, 5, 6, 7, 5, 7, 7, 7, 6, 7, 7, 6, 7, 7, 7, 7, 7, 7, 7, 6, 5, 7, 7, 7, 7, 6, 4, 5, 7, 6, 7, 5, 7, 6, 6, 6, 7, 5, 7, 7, 7, 1, 7, 7, 6, 6, 5, 6, 6, 5, 6, 7, 4, 7, 4, 6, 6, 5, 5, 6, 5, 5, 7, 4, 6, 6, 7, 7, 7, 6, 6, 7, 6, 6, 7]\n"
     ]
    },
    {
     "data": {
      "text/plain": [
       "[<matplotlib.lines.Line2D at 0x7fa5dcff5dc0>]"
      ]
     },
     "execution_count": 15,
     "metadata": {},
     "output_type": "execute_result"
    },
    {
     "data": {
      "image/png": "[encoded data removed]",
      "text/plain": [
       "<Figure size 432x288 with 1 Axes>"
      ]
     },
     "metadata": {
      "needs_background": "light"
     },
     "output_type": "display_data"
    }
   ],
   "source": [
    "import matplotlib.pyplot as plt\n",
    "import numpy as np\n",
    "\n",
    "#print(listNumIteration)\n",
    "print(listNbNouvCas)\n",
    "print(\"#####\")\n",
    "print(listNbNouvHosp)\n",
    "print(\"#####\")\n",
    "print(listNbNouvRea)\n",
    "print(\"#####\")\n",
    "print(listNbNouvMort)\n",
    "print(\"#####\")\n",
    "print(nbCasCovidConnuTotal)\n",
    "print(\"#####\")\n",
    "print(listAgeMort)\n",
    "plt.plot(listNumIteration, listNbNouvCas)  # Matplotlib plot.\n",
    "\n",
    "#plt.plot(listNumIteration, listNbNouvHosp)\n",
    "\n",
    "#plt.plot(listNumIteration, listNbNouvRea)"
   ]
  },
  {
   "cell_type": "code",
   "execution_count": 16,
   "id": "149b0eef",
   "metadata": {},
   "outputs": [
    {
     "data": {
      "text/plain": [
       "[<matplotlib.lines.Line2D at 0x7fa5dcf59f70>]"
      ]
     },
     "execution_count": 16,
     "metadata": {},
     "output_type": "execute_result"
    },
    {
     "data": {
      "image/png": "[encoded data removed]",
      "text/plain": [
       "<Figure size 432x288 with 1 Axes>"
      ]
     },
     "metadata": {
      "needs_background": "light"
     },
     "output_type": "display_data"
    }
   ],
   "source": [
    "plt.plot(listNumIteration, listNbNouvHosp)\n",
    "\n"
   ]
  },
  {
   "cell_type": "code",
   "execution_count": 17,
   "id": "4546498d",
   "metadata": {
    "scrolled": true
   },
   "outputs": [
    {
     "data": {
      "text/plain": [
       "[<matplotlib.lines.Line2D at 0x7fa5dcf488e0>]"
      ]
     },
     "execution_count": 17,
     "metadata": {},
     "output_type": "execute_result"
    },
    {
     "data": {
      "image/png": "[encoded data removed]",
      "text/plain": [
       "<Figure size 432x288 with 1 Axes>"
      ]
     },
     "metadata": {
      "needs_background": "light"
     },
     "output_type": "display_data"
    }
   ],
   "source": [
    "plt.plot(listNumIteration, listNbNouvRea)"
   ]
  },
  {
   "cell_type": "code",
   "execution_count": 18,
   "id": "61ef046f",
   "metadata": {},
   "outputs": [
    {
     "data": {
      "text/plain": [
       "[<matplotlib.lines.Line2D at 0x7fa5dcebc100>]"
      ]
     },
     "execution_count": 18,
     "metadata": {},
     "output_type": "execute_result"
    },
    {
     "data": {
      "image/png": "[encoded data removed]",
      "text/plain": [
       "<Figure size 432x288 with 1 Axes>"
      ]
     },
     "metadata": {
      "needs_background": "light"
     },
     "output_type": "display_data"
    }
   ],
   "source": [
    "plt.plot(listNumIteration, listNbNouvMort)"
   ]
  },
  {
   "cell_type": "code",
   "execution_count": 19,
   "id": "942f4d47",
   "metadata": {},
   "outputs": [
    {
     "name": "stdout",
     "output_type": "stream",
     "text": [
      "Le taux de mort de cas connu est de : 1.2521218844014186%\n"
     ]
    }
   ],
   "source": [
    "nbMortTotal = sum(listNbNouvMort)\n",
    "tauxDeMortCasConnu = (nbMortTotal / nbCasCovidConnuTotal) * 100\n",
    "\n",
    "print(\"Le taux de mort de cas connu est de : \" + str(tauxDeMortCasConnu) + \"%\")\n",
    "\n",
    "## IL ME FAUT L'AGE DES GENS CONTAMINE AUSSI ... "
   ]
  },
  {
   "cell_type": "code",
   "execution_count": 20,
   "id": "195fc686",
   "metadata": {},
   "outputs": [],
   "source": [
    "nbAge0 = 0\n",
    "nbAge1 = 0\n",
    "nbAge2 = 0\n",
    "nbAge3 = 0\n",
    "nbAge4 = 0\n",
    "nbAge5 = 0\n",
    "nbAge6 = 0\n",
    "nbAge7 = 0\n",
    "\n",
    "for i in listAgeNouvCasSymptomatique:\n",
    "    if i == 0:\n",
    "        nbAge0 = nbAge0 + 1\n",
    "    elif i == 1:\n",
    "        nbAge1 = nbAge1 + 1\n",
    "    elif i == 2:\n",
    "        nbAge2 = nbAge2 + 1\n",
    "    elif i == 3:\n",
    "        nbAge3 = nbAge3 + 1\n",
    "    elif i == 4:\n",
    "        nbAge4 = nbAge4 + 1\n",
    "    elif i == 5:\n",
    "        nbAge5 = nbAge5 + 1\n",
    "    elif i == 6:\n",
    "        nbAge6 = nbAge6 + 1\n",
    "    elif i == 7:\n",
    "        nbAge7 = nbAge7 + 1\n",
    "\n",
    "        \n",
    "nbAgeMort0 = 0\n",
    "nbAgeMort1 = 0\n",
    "nbAgeMort2 = 0\n",
    "nbAgeMort3 = 0\n",
    "nbAgeMort4 = 0\n",
    "nbAgeMort5 = 0\n",
    "nbAgeMort6 = 0\n",
    "nbAgeMort7 = 0\n",
    "\n",
    "for i in listAgeMort:\n",
    "    if i == 0:\n",
    "        nbAgeMort0 = nbAgeMort0 + 1\n",
    "    elif i == 1:\n",
    "        nbAgeMort1 = nbAgeMort1 + 1\n",
    "    elif i == 2:\n",
    "        nbAgeMort2 = nbAgeMort2 + 1\n",
    "    elif i == 3:\n",
    "        nbAgeMort3 = nbAgeMort3 + 1\n",
    "    elif i == 4:\n",
    "        nbAgeMort4 = nbAgeMort4 + 1\n",
    "    elif i == 5:\n",
    "        nbAgeMort5 = nbAgeMort5 + 1\n",
    "    elif i == 6:\n",
    "        nbAgeMort6 = nbAgeMort6 + 1\n",
    "    elif i == 7:\n",
    "        nbAgeMort7 = nbAgeMort7 + 1\n",
    "    "
   ]
  },
  {
   "cell_type": "code",
   "execution_count": 22,
   "id": "d53d80f7",
   "metadata": {},
   "outputs": [
    {
     "name": "stdout",
     "output_type": "stream",
     "text": [
      "Le taux de mortalité pour les 0 - 15 ans est de : 0.0%\n",
      "Le taux de mortalité pour les 15 - 25 ans est de : 0.041684035014589414%\n",
      "Le taux de mortalité pour les 25 - 35 ans est de : 0.07387706855791962%\n",
      "Le taux de mortalité pour les 35 - 45 ans est de : 0.17303340875815254%\n",
      "Le taux de mortalité pour les 45 - 55 ans est de : 0.6050463439752832%\n",
      "Le taux de mortalité pour les 55 - 65 ans est de : 1.4758675708017552%\n",
      "Le taux de mortalité pour les 65 - 75 ans est de : 3.2801685224195007%\n",
      "Le taux de mortalité pour les 75 + ans est de : 6.275924256086564%\n"
     ]
    }
   ],
   "source": [
    "print(\"Le taux de mortalité pour les 0 - 15 ans est de : \" + str( (nbAgeMort0/nbAge0) * 100) + \"%\") \n",
    "print(\"Le taux de mortalité pour les 15 - 25 ans est de : \" + str( (nbAgeMort1/nbAge1) * 100) + \"%\") \n",
    "print(\"Le taux de mortalité pour les 25 - 35 ans est de : \" + str( (nbAgeMort2/nbAge2) * 100) + \"%\") \n",
    "print(\"Le taux de mortalité pour les 35 - 45 ans est de : \" + str( (nbAgeMort3/nbAge3) * 100) + \"%\") \n",
    "print(\"Le taux de mortalité pour les 45 - 55 ans est de : \" + str( (nbAgeMort4/nbAge4) * 100) + \"%\") \n",
    "print(\"Le taux de mortalité pour les 55 - 65 ans est de : \" + str( (nbAgeMort5/nbAge5) * 100) + \"%\") \n",
    "print(\"Le taux de mortalité pour les 65 - 75 ans est de : \" + str( (nbAgeMort6/nbAge6) * 100) + \"%\") \n",
    "print(\"Le taux de mortalité pour les 75 + ans est de : \" + str( (nbAgeMort7/nbAge7) * 100) + \"%\") "
   ]
  },
  {
   "cell_type": "code",
   "execution_count": null,
   "id": "93d3e393",
   "metadata": {},
   "outputs": [],
   "source": []
  }
 ],
 "metadata": {
  "kernelspec": {
   "display_name": "Python 3 (ipykernel)",
   "language": "python",
   "name": "python3"
  },
  "language_info": {
   "codemirror_mode": {
    "name": "ipython",
    "version": 3
   },
   "file_extension": ".py",
   "mimetype": "text/x-python",
   "name": "python",
   "nbconvert_exporter": "python",
   "pygments_lexer": "ipython3",
   "version": "3.9.7"
  }
 },
 "nbformat": 4,
 "nbformat_minor": 5
}
