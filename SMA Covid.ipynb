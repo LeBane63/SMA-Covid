{
 "cells": [
  {
   "cell_type": "code",
   "execution_count": null,
   "id": "40adb035",
   "metadata": {},
   "outputs": [],
   "source": [
    "'''\n",
    "Bienvenue sur ce notebook.\n",
    "J'ai codé un SMA Covid.\n",
    "Les résultats de la simulation arrivent dans le fichier log.txt\n",
    "\n",
    "Les paramètres utilisés sont dans le fichier config.txt\n",
    "\n",
    "\n",
    "\n",
    "\n",
    "\n",
    "'''"
   ]
  },
  {
   "cell_type": "code",
   "execution_count": null,
   "id": "5f4a2a61",
   "metadata": {},
   "outputs": [],
   "source": [
    "!g++ -O2 -c Position.cpp Human.cpp RandMT.cpp World.cpp main.cpp"
   ]
  },
  {
   "cell_type": "code",
   "execution_count": null,
   "id": "5778fcd0",
   "metadata": {},
   "outputs": [],
   "source": [
    "!g++ -O2 Human.o main.o Position.o RandMT.o World.o -o exe"
   ]
  },
  {
   "cell_type": "code",
   "execution_count": null,
   "id": "2208d5a6",
   "metadata": {},
   "outputs": [],
   "source": [
    "!./exe"
   ]
  },
  {
   "cell_type": "code",
   "execution_count": 19,
   "id": "c9d02d0c",
   "metadata": {},
   "outputs": [],
   "source": [
    "listNumIteration = []\n",
    "listNbNouvCas = []\n",
    "listNbPersonneHosp = []\n",
    "listNbPersonneRea = []\n",
    "listNbNouvHosp = []\n",
    "listNbNouvRea = []\n",
    "listNbMort = []\n",
    "\n",
    "f = open(\"log.txt\", \"r\")\n",
    "fileLines = f.readlines()\n",
    "i = 0\n",
    "for line in fileLines:\n",
    "    if(\"##\" not in line):\n",
    "        if(i == 0):\n",
    "            listNumIteration.append(int(line))\n",
    "            i = i + 1\n",
    "        elif(i==1):\n",
    "            listNbNouvCas.append(int(line))\n",
    "            i = i + 1\n",
    "        elif(i==2):\n",
    "            listNbPersonneHosp.append(int(line))\n",
    "            i = i + 1\n",
    "        elif(i==3):\n",
    "            listNbPersonneRea.append(int(line))\n",
    "            i = i + 1\n",
    "        elif(i==4):\n",
    "            listNbNouvHosp.append(int(line))\n",
    "            i = i + 1\n",
    "        elif(i==5):\n",
    "            listNbNouvRea.append(int(line))\n",
    "            i = i + 1\n",
    "        elif(i==6):\n",
    "            listNbMort.append(int(line))\n",
    "            i = i + 1\n",
    "    else:\n",
    "        i = 0\n",
    "        \n"
   ]
  },
  {
   "cell_type": "code",
   "execution_count": 20,
   "id": "07d643a5",
   "metadata": {},
   "outputs": [
    {
     "name": "stdout",
     "output_type": "stream",
     "text": [
      "[0, 932, 1177, 802, 400, 182, 69, 30, 8, 3, 0, 1, 0, 0, 0, 0, 0, 0, 0, 0, 0, 0, 0, 0, 0, 0, 0, 0, 0, 0, 0, 0, 0, 0, 0, 0, 0, 0, 0, 0, 0, 0, 0, 0, 0, 0, 0, 0, 0, 0, 0, 0, 0, 0, 0, 0, 0, 0, 0, 0, 0, 0, 0, 0, 0, 0, 0, 0, 0, 0, 0, 0, 0, 0, 0, 0, 0, 0, 0, 0, 0, 0, 0, 0, 0, 0, 0, 0, 0, 0, 0, 0, 0, 0, 0, 0, 0, 0, 0, 0, 0, 0, 0, 0, 0, 0, 0, 0, 0, 0, 0, 0, 0, 0, 0, 0, 0, 0, 0, 0, 0, 0, 0, 0, 0, 0, 0, 0, 0, 0, 0, 0, 0, 0, 0, 0, 0, 0, 0, 0, 0, 0, 0, 0, 0, 0, 0, 0, 0, 0, 0, 0, 0, 0, 0, 0, 0, 0, 0, 0, 0, 0, 0, 0, 0, 0, 0, 0, 0, 0, 0, 0, 0, 0, 0, 0, 0, 0, 0, 0, 0, 0, 0, 0, 0, 0, 0, 0, 0, 0, 0, 0, 0, 0, 0, 0, 0, 0, 0, 0]\n"
     ]
    },
    {
     "data": {
      "text/plain": [
       "[<matplotlib.lines.Line2D at 0x7f2587ef7850>]"
      ]
     },
     "execution_count": 20,
     "metadata": {},
     "output_type": "execute_result"
    },
    {
     "data": {
      "image/png": "[encoded data removed]",
      "text/plain": [
       "<Figure size 432x288 with 1 Axes>"
      ]
     },
     "metadata": {
      "needs_background": "light"
     },
     "output_type": "display_data"
    }
   ],
   "source": [
    "import matplotlib.pyplot as plt\n",
    "import numpy as np\n",
    "\n",
    "#print(listNumIteration)\n",
    "print(listNbNouvCas)\n",
    "\n",
    "plt.plot(listNumIteration, listNbNouvCas)  # Matplotlib plot.\n",
    "\n",
    "#plt.plot(listNumIteration, listNbNouvHosp)\n",
    "\n",
    "#plt.plot(listNumIteration, listNbNouvRea)"
   ]
  },
  {
   "cell_type": "code",
   "execution_count": 21,
   "id": "149b0eef",
   "metadata": {},
   "outputs": [
    {
     "data": {
      "text/plain": [
       "[<matplotlib.lines.Line2D at 0x7f2587e599d0>]"
      ]
     },
     "execution_count": 21,
     "metadata": {},
     "output_type": "execute_result"
    },
    {
     "data": {
      "image/png": "[encoded data removed]",
      "text/plain": [
       "<Figure size 432x288 with 1 Axes>"
      ]
     },
     "metadata": {
      "needs_background": "light"
     },
     "output_type": "display_data"
    }
   ],
   "source": [
    "plt.plot(listNumIteration, listNbNouvHosp)\n",
    "\n"
   ]
  },
  {
   "cell_type": "code",
   "execution_count": 22,
   "id": "4546498d",
   "metadata": {},
   "outputs": [
    {
     "data": {
      "text/plain": [
       "[<matplotlib.lines.Line2D at 0x7f2587e32ee0>]"
      ]
     },
     "execution_count": 22,
     "metadata": {},
     "output_type": "execute_result"
    },
    {
     "data": {
      "image/png": "[encoded data removed]",
      "text/plain": [
       "<Figure size 432x288 with 1 Axes>"
      ]
     },
     "metadata": {
      "needs_background": "light"
     },
     "output_type": "display_data"
    }
   ],
   "source": [
    "plt.plot(listNumIteration, listNbNouvRea)"
   ]
  },
  {
   "cell_type": "code",
   "execution_count": null,
   "id": "942f4d47",
   "metadata": {},
   "outputs": [],
   "source": []
  }
 ],
 "metadata": {
  "kernelspec": {
   "display_name": "Python 3 (ipykernel)",
   "language": "python",
   "name": "python3"
  },
  "language_info": {
   "codemirror_mode": {
    "name": "ipython",
    "version": 3
   },
   "file_extension": ".py",
   "mimetype": "text/x-python",
   "name": "python",
   "nbconvert_exporter": "python",
   "pygments_lexer": "ipython3",
   "version": "3.8.10"
  }
 },
 "nbformat": 4,
 "nbformat_minor": 5
}
