{
 "cells": [
  {
   "cell_type": "code",
   "execution_count": null,
   "id": "40adb035",
   "metadata": {},
   "outputs": [],
   "source": [
    "'''\n",
    "Bienvenue sur ce notebook.\n",
    "J'ai codé un SMA Covid.\n",
    "Les résultats de la simulation arrivent dans le fichier log.txt\n",
    "\n",
    "Les paramètres utilisés sont dans le fichier config.txt\n",
    "\n",
    "\n",
    "\n",
    "\n",
    "\n",
    "'''"
   ]
  },
  {
   "cell_type": "code",
   "execution_count": 1,
   "id": "5f4a2a61",
   "metadata": {},
   "outputs": [],
   "source": [
    "!g++ -O2 -c Position.cpp Human.cpp RandMT.cpp World.cpp main.cpp"
   ]
  },
  {
   "cell_type": "code",
   "execution_count": 2,
   "id": "5778fcd0",
   "metadata": {},
   "outputs": [],
   "source": [
    "!g++ -O2 Human.o main.o Position.o RandMT.o World.o -o exe"
   ]
  },
  {
   "cell_type": "code",
   "execution_count": null,
   "id": "2208d5a6",
   "metadata": {},
   "outputs": [],
   "source": [
    "!./exe"
   ]
  },
  {
   "cell_type": "code",
   "execution_count": 10,
   "id": "c9d02d0c",
   "metadata": {},
   "outputs": [],
   "source": [
    "listNumIteration = []\n",
    "listNbNouvCas = []\n",
    "listNbPersonneHosp = []\n",
    "listNbPersonneRea = []\n",
    "listNbNouvHosp = []\n",
    "listNbNouvRea = []\n",
    "listNbNouvMort = []\n",
    "nbCasCovidConnuTotal = 0\n",
    "listAgeMort = []\n",
    "\n",
    "\n",
    "f = open(\"log.txt\", \"r\")\n",
    "fileLines = f.readlines()\n",
    "i = 0\n",
    "for line in fileLines:\n",
    "    if(\"##\" not in line):\n",
    "        if(i == 0):\n",
    "            listNumIteration.append(int(line))\n",
    "            i = i + 1\n",
    "        elif(i==1):\n",
    "            listNbNouvCas.append(int(line))\n",
    "            i = i + 1\n",
    "        elif(i==2):\n",
    "            listNbPersonneHosp.append(int(line))\n",
    "            i = i + 1\n",
    "        elif(i==3):\n",
    "            listNbPersonneRea.append(int(line))\n",
    "            i = i + 1\n",
    "        elif(i==4):\n",
    "            listNbNouvHosp.append(int(line))\n",
    "            i = i + 1\n",
    "        elif(i==5):\n",
    "            listNbNouvRea.append(int(line))\n",
    "            i = i + 1\n",
    "        elif(i==6):\n",
    "            listNbNouvMort.append(int(line))\n",
    "            i = i + 1\n",
    "        elif(i==7):\n",
    "            nbCasCovidConnuTotal = (int(line))\n",
    "            i = i + 1\n",
    "        elif(\"Age:\" in line):\n",
    "            listSplit = line.split(\":\")\n",
    "            listAgeMort.append(int(listSplit[1]))\n",
    "    else:\n",
    "        i = 0\n",
    "        \n"
   ]
  },
  {
   "cell_type": "code",
   "execution_count": 13,
   "id": "07d643a5",
   "metadata": {},
   "outputs": [
    {
     "name": "stdout",
     "output_type": "stream",
     "text": [
      "[0, 154, 161, 178, 158, 156, 141, 119, 101, 70, 42, 37, 30, 30, 27, 10, 16, 7, 6, 6, 3, 3, 3, 3, 3, 2, 0, 2, 2, 0, 0, 0, 0, 0, 1, 1, 0, 0, 0, 0, 0, 0, 0, 0, 0, 0, 0, 0, 0, 0, 0, 0, 0, 0, 0, 0, 0, 0, 0, 0, 0, 0, 0, 0, 0, 0, 0, 0, 0, 0, 0, 0, 0, 0, 0, 0, 0, 0, 0, 0, 0, 0, 0, 0, 0, 0, 0, 0, 0, 0, 0, 0, 0, 0, 0, 0, 0, 0, 0, 0]\n",
      "#####\n",
      "[0, 0, 149, 23, 19, 10, 15, 14, 7, 6, 8, 8, 1, 1, 3, 2, 3, 3, 0, 1, 2, 0, 0, 0, 1, 0, 1, 0, 0, 0, 0, 0, 0, 0, 0, 0, 0, 0, 0, 0, 0, 0, 0, 0, 0, 0, 0, 0, 0, 0, 0, 0, 0, 0, 0, 0, 0, 0, 0, 0, 0, 0, 0, 0, 0, 0, 0, 0, 0, 0, 0, 0, 0, 0, 0, 0, 0, 0, 0, 0, 0, 0, 0, 0, 0, 0, 0, 0, 0, 0, 0, 0, 0, 0, 0, 0, 0, 0, 0, 0]\n",
      "#####\n",
      "[0, 0, 0, 53, 10, 3, 1, 2, 3, 0, 0, 0, 1, 1, 0, 2, 1, 0, 2, 0, 0, 1, 0, 0, 0, 1, 0, 0, 0, 0, 0, 0, 0, 0, 0, 0, 0, 0, 0, 0, 0, 0, 0, 0, 0, 0, 0, 0, 0, 0, 0, 0, 0, 0, 0, 0, 0, 0, 0, 0, 0, 0, 0, 0, 0, 0, 0, 0, 0, 0, 0, 0, 0, 0, 0, 0, 0, 0, 0, 0, 0, 0, 0, 0, 0, 0, 0, 0, 0, 0, 0, 0, 0, 0, 0, 0, 0, 0, 0, 0]\n",
      "#####\n",
      "[0, 0, 0, 0, 29, 5, 2, 1, 2, 1, 0, 0, 0, 0, 1, 0, 2, 0, 0, 1, 0, 0, 1, 0, 0, 0, 0, 0, 0, 0, 0, 0, 0, 0, 0, 0, 0, 0, 0, 0, 0, 0, 0, 0, 0, 0, 0, 0, 0, 0, 0, 0, 0, 0, 0, 0, 0, 0, 0, 0, 0, 0, 0, 0, 0, 0, 0, 0, 0, 0, 0, 0, 0, 0, 0, 0, 0, 0, 0, 0, 0, 0, 0, 0, 0, 0, 0, 0, 0, 0, 0, 0, 0, 0, 0, 0, 0, 0, 0, 0]\n",
      "#####\n",
      "2293\n",
      "#####\n",
      "[6, 7, 5, 7, 7, 6, 5, 7, 5, 5, 7, 6, 7, 7, 6, 4, 7, 6, 4, 7, 7, 7, 6, 7, 6, 6, 4, 7, 6, 5, 7, 6, 5, 7, 7, 6, 7, 5, 5, 7, 5, 7, 5, 7, 7]\n"
     ]
    },
    {
     "data": {
      "text/plain": [
       "[<matplotlib.lines.Line2D at 0x7fa5dd43ed90>]"
      ]
     },
     "execution_count": 13,
     "metadata": {},
     "output_type": "execute_result"
    },
    {
     "data": {
      "image/png": "[encoded data removed]",
      "text/plain": [
       "<Figure size 432x288 with 1 Axes>"
      ]
     },
     "metadata": {
      "needs_background": "light"
     },
     "output_type": "display_data"
    }
   ],
   "source": [
    "import matplotlib.pyplot as plt\n",
    "import numpy as np\n",
    "\n",
    "#print(listNumIteration)\n",
    "print(listNbNouvCas)\n",
    "print(\"#####\")\n",
    "print(listNbNouvHosp)\n",
    "print(\"#####\")\n",
    "print(listNbNouvRea)\n",
    "print(\"#####\")\n",
    "print(listNbNouvMort)\n",
    "print(\"#####\")\n",
    "print(nbCasCovidConnuTotal)\n",
    "print(\"#####\")\n",
    "print(listAgeMort)\n",
    "plt.plot(listNumIteration, listNbNouvCas)  # Matplotlib plot.\n",
    "\n",
    "#plt.plot(listNumIteration, listNbNouvHosp)\n",
    "\n",
    "#plt.plot(listNumIteration, listNbNouvRea)"
   ]
  },
  {
   "cell_type": "code",
   "execution_count": 6,
   "id": "149b0eef",
   "metadata": {},
   "outputs": [
    {
     "data": {
      "text/plain": [
       "[<matplotlib.lines.Line2D at 0x7fa5dd60a760>]"
      ]
     },
     "execution_count": 6,
     "metadata": {},
     "output_type": "execute_result"
    },
    {
     "data": {
      "image/png": "[encoded data removed]",
      "text/plain": [
       "<Figure size 432x288 with 1 Axes>"
      ]
     },
     "metadata": {
      "needs_background": "light"
     },
     "output_type": "display_data"
    }
   ],
   "source": [
    "plt.plot(listNumIteration, listNbNouvHosp)\n",
    "\n"
   ]
  },
  {
   "cell_type": "code",
   "execution_count": 7,
   "id": "4546498d",
   "metadata": {
    "scrolled": true
   },
   "outputs": [
    {
     "data": {
      "text/plain": [
       "[<matplotlib.lines.Line2D at 0x7fa5dd57efd0>]"
      ]
     },
     "execution_count": 7,
     "metadata": {},
     "output_type": "execute_result"
    },
    {
     "data": {
      "image/png": "[encoded data removed]",
      "text/plain": [
       "<Figure size 432x288 with 1 Axes>"
      ]
     },
     "metadata": {
      "needs_background": "light"
     },
     "output_type": "display_data"
    }
   ],
   "source": [
    "plt.plot(listNumIteration, listNbNouvRea)"
   ]
  },
  {
   "cell_type": "code",
   "execution_count": null,
   "id": "61ef046f",
   "metadata": {},
   "outputs": [],
   "source": [
    "plt.plot(listNumIteration, listNbNouvMort)"
   ]
  },
  {
   "cell_type": "code",
   "execution_count": 9,
   "id": "942f4d47",
   "metadata": {},
   "outputs": [
    {
     "name": "stdout",
     "output_type": "stream",
     "text": [
      "Le taux de mort de cas connu est de : 1.962494548626254%\n"
     ]
    }
   ],
   "source": [
    "nbMortTotal = sum(listNbNouvMort)\n",
    "tauxDeMortCasConnu = (nbMortTotal / nbCasCovidConnuTotal) * 100\n",
    "\n",
    "print(\"Le taux de mort de cas connu est de : \" + str(tauxDeMortCasConnu) + \"%\")\n",
    "\n",
    "## IL ME FAUT L'AGE DES GENS CONTAMINE AUSSI ... "
   ]
  },
  {
   "cell_type": "code",
   "execution_count": null,
   "id": "195fc686",
   "metadata": {},
   "outputs": [],
   "source": []
  }
 ],
 "metadata": {
  "kernelspec": {
   "display_name": "Python 3 (ipykernel)",
   "language": "python",
   "name": "python3"
  },
  "language_info": {
   "codemirror_mode": {
    "name": "ipython",
    "version": 3
   },
   "file_extension": ".py",
   "mimetype": "text/x-python",
   "name": "python",
   "nbconvert_exporter": "python",
   "pygments_lexer": "ipython3",
   "version": "3.9.7"
  }
 },
 "nbformat": 4,
 "nbformat_minor": 5
}
